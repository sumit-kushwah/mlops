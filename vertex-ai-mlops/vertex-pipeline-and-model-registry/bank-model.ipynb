{
 "cells": [
  {
   "cell_type": "code",
   "execution_count": 35,
   "metadata": {},
   "outputs": [],
   "source": [
    "from kfp.dsl import (\n",
    "    pipeline,\n",
    "    Input,\n",
    "    Output,\n",
    "    Dataset,\n",
    "    component,\n",
    "    Metrics,\n",
    "    Model,\n",
    "    OutputPath,\n",
    "    Condition,\n",
    "    OutputPath,\n",
    ")\n",
    "from typing import NamedTuple\n",
    "from kfp import compiler"
   ]
  },
  {
   "cell_type": "code",
   "execution_count": 36,
   "metadata": {},
   "outputs": [],
   "source": [
    "@component(base_image='python:3.10', packages_to_install=['hopsworks', 'pandas'])\n",
    "def data_extraction(features: Output[Dataset], labels: Output[Dataset]):\n",
    "    import hopsworks\n",
    "    project = hopsworks.login(api_key_value=\"d8xtITOWVijkhAXY.w40wTIyrfsOWnspA7lJIsAKk3CQU5ethzhx5KHFEmC9tnAjRdLMXHjEEGefhHMvo\")\n",
    "    fs = project.get_feature_store()\n",
    "    bank_fv = fs.get_feature_view(\"bank_fv\", 1)\n",
    "    features_df, labels_df = bank_fv.get_training_data(training_dataset_version=1)\n",
    "    features_df.to_csv(features.path, index=False)\n",
    "    labels_df.to_csv(labels.path, index=False)"
   ]
  },
  {
   "cell_type": "code",
   "execution_count": 37,
   "metadata": {},
   "outputs": [],
   "source": [
    "# This is not required since we are handlling it by feature store only\n",
    "# @component(base_image='python:3.10')\n",
    "# def data_transformation():\n",
    "#     print(\"Data extraction\")"
   ]
  },
  {
   "cell_type": "code",
   "execution_count": 38,
   "metadata": {},
   "outputs": [],
   "source": [
    "# This also can be applied at feature store level, but we will keep it here for now\n",
    "\n",
    "@component(base_image='python:3.10', packages_to_install=['pandas', 'evidently'])\n",
    "def data_validation(features: Input[Dataset], metrics: Output[Metrics]) -> NamedTuple('outputs', [('all_passed', bool)]):\n",
    "    from evidently.test_suite import TestSuite\n",
    "    from evidently.tests import TestNumberOfColumnsWithMissingValues\n",
    "    from evidently.tests import TestNumberOfRowsWithMissingValues\n",
    "    from evidently.tests import TestNumberOfConstantColumns\n",
    "    from evidently.tests import TestNumberOfDuplicatedRows\n",
    "    from evidently.tests import TestNumberOfDuplicatedColumns\n",
    "\n",
    "    tests = TestSuite(tests=[\n",
    "        TestNumberOfColumnsWithMissingValues(),\n",
    "        TestNumberOfRowsWithMissingValues(),\n",
    "        TestNumberOfConstantColumns(),\n",
    "        TestNumberOfDuplicatedRows(),\n",
    "        TestNumberOfDuplicatedColumns(),\n",
    "    ])\n",
    "    \n",
    "    import pandas as pd\n",
    "    df = pd.read_csv(features.path)\n",
    "\n",
    "    tests.run(reference_data=None, current_data=df)\n",
    "    test_dict = tests.as_dict()\n",
    "    metrics.log_metric(\"all_passed\", test_dict[\"summary\"][\"all_passed\"])\n",
    "    \n",
    "    namedTuple = NamedTuple('outputs', [('all_passed', str)])\n",
    "    return namedTuple(test_dict[\"summary\"][\"all_passed\"])"
   ]
  },
  {
   "cell_type": "code",
   "execution_count": 39,
   "metadata": {},
   "outputs": [],
   "source": [
    "@component(base_image='python:3.10', packages_to_install=['pandas', 'scikit-learn'])\n",
    "def data_preparation(features: Input[Dataset], labels: Input[Dataset],X_train_dataset:Output[Dataset], X_test_dataset:Output[Dataset], y_train_dataset:Output[Dataset], y_test_dataset:Output[Dataset]):\n",
    "    from sklearn.model_selection import train_test_split\n",
    "    import pandas as pd\n",
    "    X = pd.read_csv(features.path)\n",
    "    y = pd.read_csv(labels.path)\n",
    "    X_train, X_test, y_train, y_test = train_test_split(X, y, test_size=0.2, random_state=42)\n",
    "    X_train.to_csv(X_train_dataset.path, index=False)\n",
    "    X_test.to_csv(X_test_dataset.path, index=False)\n",
    "    y_train.to_csv(y_train_dataset.path, index=False)\n",
    "    y_test.to_csv(y_test_dataset.path, index=False)\n",
    "    "
   ]
  },
  {
   "cell_type": "code",
   "execution_count": 40,
   "metadata": {},
   "outputs": [],
   "source": [
    "@component(base_image='python:3.10', packages_to_install=['pandas', 'scikit-learn', 'joblib'])\n",
    "def model_train(X_train_dataset:Input[Dataset], y_train_dataset:Input[Dataset], model_output:Output[Model]):\n",
    "    import time\n",
    "    import joblib\n",
    "    time_start = time.time()\n",
    "    from sklearn.tree import DecisionTreeClassifier\n",
    "    import pandas as pd\n",
    "    X_train = pd.read_csv(X_train_dataset.path)\n",
    "    y_train = pd.read_csv(y_train_dataset.path)\n",
    "    model = DecisionTreeClassifier(\n",
    "        class_weight='balanced', \n",
    "        criterion='gini', \n",
    "        max_depth=5, \n",
    "        min_samples_leaf=2\n",
    "    )\n",
    "    model.fit(X_train, y_train)\n",
    "    time_end = time.time() \n",
    "    model_output.metadata[\"framework\"] = \"Scikit-learn\"\n",
    "    model_output.metadata[\"time_to_train_in_seconds\"] = time_end - time_start\n",
    "    joblib.dump(model, model_output.path)\n",
    "    "
   ]
  },
  {
   "cell_type": "code",
   "execution_count": 41,
   "metadata": {},
   "outputs": [],
   "source": [
    "@component(base_image='python:3.10', packages_to_install=['pandas', 'scikit-learn', 'joblib'])\n",
    "def model_evaluation(metrics: Output[Metrics], model_input: Input[Model], X_test_dataset:Input[Dataset], y_test_dataset:Input[Dataset]):\n",
    "    from sklearn.metrics import accuracy_score\n",
    "    import pandas as pd\n",
    "    import joblib\n",
    "    X_test = pd.read_csv(X_test_dataset.path)\n",
    "    y_test = pd.read_csv(y_test_dataset.path)\n",
    "    model = joblib.load(model_input.path)\n",
    "    y_pred = model.predict(X_test)\n",
    "    accuracy = accuracy_score(y_test, y_pred)\n",
    "    metrics.log_metric(\"accuracy\", accuracy)"
   ]
  },
  {
   "cell_type": "markdown",
   "metadata": {},
   "source": [
    "#### TODO: Model Registry Component can be added here based on evaluation metrics results or without"
   ]
  },
  {
   "cell_type": "code",
   "execution_count": 42,
   "metadata": {},
   "outputs": [],
   "source": [
    "BUCKET_URI = \"gs://leap-vertex-ai-im\"\n",
    "PIPELINE_ROOT = \"{}/test-runs\".format(BUCKET_URI)\n",
    "\n",
    "@pipeline(\n",
    "    name=\"bank-model-pipeline\",\n",
    "    pipeline_root=PIPELINE_ROOT,\n",
    ")\n",
    "def bank_pipeline():\n",
    "    # TODO: use dsl.Condition for model evaluation then create model registry\n",
    "    data_extraction_task = data_extraction()\n",
    "    data_validation_task = data_validation(\n",
    "        features=data_extraction_task.outputs[\"features\"]\n",
    "    )\n",
    "    with Condition(data_validation_task.outputs[\"all_passed\"] == True):\n",
    "        data_preparation_task = data_preparation(features=data_extraction_task.outputs[\"features\"], labels=data_extraction_task.outputs[\"labels\"])\n",
    "        train = model_train(X_train_dataset=data_preparation_task.outputs[\"X_train_dataset\"], y_train_dataset=data_preparation_task.outputs[\"y_train_dataset\"])\n",
    "        evaluate = model_evaluation(model_input=train.outputs[\"model_output\"], X_test_dataset=data_preparation_task.outputs[\"X_test_dataset\"], y_test_dataset=data_preparation_task.outputs[\"y_test_dataset\"])\n",
    "    "
   ]
  },
  {
   "cell_type": "code",
   "execution_count": 43,
   "metadata": {},
   "outputs": [],
   "source": [
    "compiler.Compiler().compile(pipeline_func=bank_pipeline,package_path='bank_pipeline.yaml')"
   ]
  }
 ],
 "metadata": {
  "kernelspec": {
   "display_name": "base",
   "language": "python",
   "name": "python3"
  },
  "language_info": {
   "codemirror_mode": {
    "name": "ipython",
    "version": 3
   },
   "file_extension": ".py",
   "mimetype": "text/x-python",
   "name": "python",
   "nbconvert_exporter": "python",
   "pygments_lexer": "ipython3",
   "version": "3.11.4"
  }
 },
 "nbformat": 4,
 "nbformat_minor": 2
}
