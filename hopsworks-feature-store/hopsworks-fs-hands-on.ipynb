{
 "cells": [
  {
   "cell_type": "code",
   "execution_count": 91,
   "metadata": {},
   "outputs": [],
   "source": [
    "import pandas as pd\n",
    "from math import radians"
   ]
  },
  {
   "cell_type": "markdown",
   "metadata": {},
   "source": [
    "### Feature Functions"
   ]
  },
  {
   "cell_type": "code",
   "execution_count": 92,
   "metadata": {},
   "outputs": [],
   "source": [
    "# Compute age at transaction.\n",
    "def get_age_at_transaction(trans_df, profiles_df):\n",
    "    merged_df = pd.merge(trans_df, profiles_df, on=\"cc_num\")\n",
    "    # convert birthdate to datetime with specified format\n",
    "    merged_df[\"birthdate\"] = pd.to_datetime(merged_df[\"birthdate\"], format=\"%Y-%m-%d\")\n",
    "\n",
    "    # # convert datetime to datetime with specified format\n",
    "    merged_df[\"datetime\"] = pd.to_datetime(\n",
    "        merged_df[\"datetime\"], format=\"%Y-%m-%d %H:%M:%S\"\n",
    "    )\n",
    "    \n",
    "    merged_df[\"age_at_transaction\"] = merged_df[\"datetime\"].dt.year - merged_df[\"birthdate\"].dt.year\n",
    "    trans_df[\"age_at_transaction\"] = merged_df[\"age_at_transaction\"]\n",
    "    return trans_df\n",
    "\n",
    "# Compute days until card expires.\n",
    "def get_days_until_card_expires(trans_df, credit_cards_df):\n",
    "    merged_df = pd.merge(trans_df, credit_cards_df, on=\"cc_num\")\n",
    "    # changed expires column to datetime with specified format\n",
    "    merged_df[\"expires\"] = pd.to_datetime(merged_df[\"expires\"], format=\"%m/%y\")\n",
    "    merged_df[\"datetime\"] = pd.to_datetime(\n",
    "        merged_df[\"datetime\"], format=\"%Y-%m-%d %H:%M:%S\"\n",
    "    )\n",
    "    merged_df[\"days_until_card_expires\"] = (merged_df[\"expires\"] - merged_df[\"datetime\"]).dt.days\n",
    "    \n",
    "    trans_df[\"days_until_card_expires\"] = merged_df[\"days_until_card_expires\"]\n",
    "    return trans_df\n"
   ]
  },
  {
   "cell_type": "markdown",
   "metadata": {},
   "source": [
    "# 1. Loading the data and feature engineeing,"
   ]
  },
  {
   "cell_type": "markdown",
   "metadata": {},
   "source": [
    "### Loading the Data"
   ]
  },
  {
   "cell_type": "code",
   "execution_count": 93,
   "metadata": {},
   "outputs": [],
   "source": [
    "credit_cards_df = pd.read_csv('datasource/credit_cards.csv')\n",
    "profiles_df = pd.read_csv('datasource/profiles.csv')\n",
    "transactions_df = pd.read_csv('datasource/transactions.csv')"
   ]
  },
  {
   "cell_type": "markdown",
   "metadata": {},
   "source": [
    "## Feature Engineering\n",
    "\n",
    "Fraudulent transactions can differ from regular ones in many different ways. Typical red flags would for instance be a large transaction volume/frequency in the span of a few hours. It could also be the case that elderly people in particular are targeted by fraudsters. To facilitate model learning you will create additional features based on these patterns. In particular, you will create two types of features:\n",
    "1. **Features that aggregate data from different data sources**. This could for instance be the age of a customer at the time of a transaction, which combines the `birthdate` feature from `profiles.csv` with the `datetime` feature from `transactions.csv`.\n",
    "2. **Features that aggregate data from multiple time steps**. An example of this could be the transaction frequency of a credit card in the span of a few hours, which is computed using a window function.\n",
    "\n",
    "Let's start with the first category."
   ]
  },
  {
   "cell_type": "code",
   "execution_count": 94,
   "metadata": {},
   "outputs": [],
   "source": [
    "# Compute age at transaction.\n",
    "transactions_df = get_age_at_transaction(transactions_df, profiles_df)\n",
    "\n",
    "# Compute days until card expires.\n",
    "transactions_df = get_days_until_card_expires(transactions_df, credit_cards_df)"
   ]
  },
  {
   "cell_type": "code",
   "execution_count": 95,
   "metadata": {},
   "outputs": [
    {
     "data": {
      "text/html": [
       "<div>\n",
       "<style scoped>\n",
       "    .dataframe tbody tr th:only-of-type {\n",
       "        vertical-align: middle;\n",
       "    }\n",
       "\n",
       "    .dataframe tbody tr th {\n",
       "        vertical-align: top;\n",
       "    }\n",
       "\n",
       "    .dataframe thead th {\n",
       "        text-align: right;\n",
       "    }\n",
       "</style>\n",
       "<table border=\"1\" class=\"dataframe\">\n",
       "  <thead>\n",
       "    <tr style=\"text-align: right;\">\n",
       "      <th></th>\n",
       "      <th>age_at_transaction</th>\n",
       "      <th>days_until_card_expires</th>\n",
       "    </tr>\n",
       "  </thead>\n",
       "  <tbody>\n",
       "    <tr>\n",
       "      <th>0</th>\n",
       "      <td>98</td>\n",
       "      <td>1460</td>\n",
       "    </tr>\n",
       "    <tr>\n",
       "      <th>1</th>\n",
       "      <td>98</td>\n",
       "      <td>1459</td>\n",
       "    </tr>\n",
       "    <tr>\n",
       "      <th>2</th>\n",
       "      <td>98</td>\n",
       "      <td>1459</td>\n",
       "    </tr>\n",
       "  </tbody>\n",
       "</table>\n",
       "</div>"
      ],
      "text/plain": [
       "   age_at_transaction  days_until_card_expires\n",
       "0                  98                     1460\n",
       "1                  98                     1459\n",
       "2                  98                     1459"
      ]
     },
     "execution_count": 95,
     "metadata": {},
     "output_type": "execute_result"
    }
   ],
   "source": [
    "transactions_df[[\"age_at_transaction\", \"days_until_card_expires\"]].head(3)"
   ]
  },
  {
   "cell_type": "code",
   "execution_count": 96,
   "metadata": {},
   "outputs": [
    {
     "data": {
      "text/plain": [
       "(106020, 12)"
      ]
     },
     "execution_count": 96,
     "metadata": {},
     "output_type": "execute_result"
    }
   ],
   "source": [
    "transactions_df.shape"
   ]
  },
  {
   "cell_type": "code",
   "execution_count": 97,
   "metadata": {},
   "outputs": [],
   "source": [
    "transactions_df = transactions_df.drop_duplicates([\"datetime\"])"
   ]
  },
  {
   "cell_type": "code",
   "execution_count": 98,
   "metadata": {},
   "outputs": [
    {
     "data": {
      "text/plain": [
       "(105092, 12)"
      ]
     },
     "execution_count": 98,
     "metadata": {},
     "output_type": "execute_result"
    }
   ],
   "source": [
    "transactions_df.shape"
   ]
  },
  {
   "cell_type": "code",
   "execution_count": null,
   "metadata": {},
   "outputs": [],
   "source": [
    "# Sort the trans_df DataFrame based on the \"datetime\" column in ascending order\n",
    "transactions_df.sort_values(\"datetime\", inplace=True)\n",
    "\n",
    "# Apply the radians function to the \"longitude\" and \"latitude\" columns in the trans_df DataFrame\n",
    "# This is a common preprocessing step for geographical data\n",
    "transactions_df[[\"longitude\", \"latitude\"]] = transactions_df[[\"longitude\", \"latitude\"]].applymap(radians)\n",
    "\n",
    "# Create a new column \"loc_delta\" in trans_df representing the haversine distance between consecutive transactions for each credit card\n",
    "transactions_df[\"loc_delta\"] = transactions_df.groupby(\"cc_num\")\\\n",
    "    .apply(lambda x: transactions_fraud.haversine(x[\"longitude\"], x[\"latitude\"]))\\\n",
    "    .reset_index(level=0, drop=True)\\\n",
    "    .fillna(0)"
   ]
  }
 ],
 "metadata": {
  "kernelspec": {
   "display_name": "Python 3",
   "language": "python",
   "name": "python3"
  },
  "language_info": {
   "codemirror_mode": {
    "name": "ipython",
    "version": 3
   },
   "file_extension": ".py",
   "mimetype": "text/x-python",
   "name": "python",
   "nbconvert_exporter": "python",
   "pygments_lexer": "ipython3",
   "version": "3.10.12"
  }
 },
 "nbformat": 4,
 "nbformat_minor": 2
}
