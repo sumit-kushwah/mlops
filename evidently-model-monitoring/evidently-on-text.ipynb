{
 "cells": [
  {
   "cell_type": "code",
   "execution_count": 71,
   "metadata": {},
   "outputs": [],
   "source": [
    "from evidently.report import Report\n",
    "from evidently.metrics import ColumnDriftMetric\n",
    "from evidently import ColumnMapping"
   ]
  },
  {
   "cell_type": "code",
   "execution_count": 72,
   "metadata": {},
   "outputs": [],
   "source": [
    "import pandas as pd\n",
    "\n",
    "df = pd.read_csv('./IMDB Dataset.csv')"
   ]
  },
  {
   "cell_type": "code",
   "execution_count": 73,
   "metadata": {},
   "outputs": [
    {
     "data": {
      "text/plain": [
       "(50000, 2)"
      ]
     },
     "execution_count": 73,
     "metadata": {},
     "output_type": "execute_result"
    }
   ],
   "source": [
    "df.shape"
   ]
  },
  {
   "cell_type": "code",
   "execution_count": 74,
   "metadata": {},
   "outputs": [],
   "source": [
    "df = df.sample(frac=1).reset_index(drop=True)\n",
    "ref_df = df.loc[1000:3000]\n",
    "cur_df = df.loc[5000:7000]"
   ]
  },
  {
   "cell_type": "code",
   "execution_count": 75,
   "metadata": {},
   "outputs": [
    {
     "data": {
      "text/plain": [
       "1000    Shown in Australia as 'Hydrosphere', this incr...\n",
       "1001    So ya think you've seen every Mafia movie ever...\n",
       "1002    I had the privilege of seeing this film at a p...\n",
       "1003    Hello, I was alanrickmaniac. I'm a Still Crazy...\n",
       "1004    Miriam Hopkins is \"The Lady with Red Hair\" in ...\n",
       "Name: review, dtype: object"
      ]
     },
     "execution_count": 75,
     "metadata": {},
     "output_type": "execute_result"
    }
   ],
   "source": [
    "ref_df['review'].head()"
   ]
  },
  {
   "cell_type": "code",
   "execution_count": 76,
   "metadata": {},
   "outputs": [],
   "source": [
    "cm = ColumnMapping()\n",
    "cm.text_features = ['review']\n",
    "\n",
    "report = Report(metrics=[\n",
    "    ColumnDriftMetric('review')\n",
    "])\n",
    "\n",
    "report.run(reference_data=ref_df, current_data=cur_df, column_mapping=cm)"
   ]
  },
  {
   "cell_type": "code",
   "execution_count": 77,
   "metadata": {},
   "outputs": [
    {
     "data": {
      "text/plain": [
       "{'metrics': [{'metric': 'ColumnDriftMetric',\n",
       "   'result': {'column_name': 'review',\n",
       "    'column_type': 'text',\n",
       "    'stattest_name': 'Absolute text content drift',\n",
       "    'stattest_threshold': 0.55,\n",
       "    'drift_score': 0.5092974339501978,\n",
       "    'drift_detected': False,\n",
       "    'current': {'small_distribution': None},\n",
       "    'reference': {'small_distribution': None}}}]}"
      ]
     },
     "execution_count": 77,
     "metadata": {},
     "output_type": "execute_result"
    }
   ],
   "source": [
    "report.as_dict()"
   ]
  }
 ],
 "metadata": {
  "kernelspec": {
   "display_name": "base",
   "language": "python",
   "name": "python3"
  },
  "language_info": {
   "codemirror_mode": {
    "name": "ipython",
    "version": 3
   },
   "file_extension": ".py",
   "mimetype": "text/x-python",
   "name": "python",
   "nbconvert_exporter": "python",
   "pygments_lexer": "ipython3",
   "version": "3.11.4"
  }
 },
 "nbformat": 4,
 "nbformat_minor": 2
}
