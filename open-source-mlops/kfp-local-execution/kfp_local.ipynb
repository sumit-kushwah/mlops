{
 "cells": [
  {
   "cell_type": "code",
   "execution_count": 8,
   "metadata": {},
   "outputs": [
    {
     "name": "stdout",
     "output_type": "stream",
     "text": [
      "Note: you may need to restart the kernel to use updated packages.\n"
     ]
    }
   ],
   "source": [
    "%pip install docker -q"
   ]
  },
  {
   "cell_type": "code",
   "execution_count": 9,
   "metadata": {},
   "outputs": [],
   "source": [
    "from kfp import local\n",
    "from kfp import dsl\n",
    "\n",
    "local.init(runner=local.DockerRunner(), pipeline_root='/tmp/kfp_outputs/')"
   ]
  },
  {
   "cell_type": "code",
   "execution_count": 10,
   "metadata": {},
   "outputs": [
    {
     "name": "stderr",
     "output_type": "stream",
     "text": [
      "/home/sumit/miniconda3/lib/python3.12/site-packages/kfp/dsl/component_decorator.py:119: FutureWarning: Python 3.7 has reached end-of-life. The default base_image used by the @dsl.component decorator will switch from 'python:3.7' to 'python:3.8' on April 23, 2024. To ensure your existing components work with versions of the KFP SDK released after that date, you should provide an explicit base_image argument and ensure your component works as intended on Python 3.8.\n",
      "  return component_factory.create_component_from_func(\n"
     ]
    }
   ],
   "source": [
    "@dsl.component\n",
    "def add(a: int, b: int) -> int:\n",
    "    return a + b"
   ]
  },
  {
   "cell_type": "code",
   "execution_count": 11,
   "metadata": {},
   "outputs": [],
   "source": [
    "@dsl.pipeline\n",
    "def math_pipeline(x: int, y: int, z: int) -> int:\n",
    "    t1 = add(a=x, b=y)\n",
    "    t2 = add(a=t1.output, b=z)\n",
    "    return t2.output"
   ]
  },
  {
   "cell_type": "code",
   "execution_count": 12,
   "metadata": {},
   "outputs": [
    {
     "name": "stdout",
     "output_type": "stream",
     "text": [
      "22:26:53.226 - INFO - Running pipeline: \u001b[95m'math-pipeline'\u001b[0m\n",
      "--------------------------------------------------------------------------------\n",
      "22:26:53.227 - INFO - Executing task \u001b[96m'add'\u001b[0m\n",
      "22:26:53.228 - INFO - Streamed logs:\n",
      "\n",
      "    Found image 'python:3.7'\n",
      "\n",
      "    WARNING: Running pip as the 'root' user can result in broken permissions and conflicting behaviour with the system package manager. It is recommended to use a virtual environment instead: https://pip.pypa.io/warnings/venv\n",
      "    [KFP Executor 2024-06-10 16:56:56,526 INFO]: Looking for component `add` in --component_module_path `/tmp/tmp.vOyCrWrQam/ephemeral_component.py`\n",
      "    [KFP Executor 2024-06-10 16:56:56,526 INFO]: Loading KFP component \"add\" from /tmp/tmp.vOyCrWrQam/ephemeral_component.py (directory \"/tmp/tmp.vOyCrWrQam\" and module name \"ephemeral_component\")\n",
      "    [KFP Executor 2024-06-10 16:56:56,527 INFO]: Got executor_input:\n",
      "    {\n",
      "        \"inputs\": {\n",
      "            \"parameterValues\": {\n",
      "                \"a\": 1,\n",
      "                \"b\": 2\n",
      "            }\n",
      "        },\n",
      "        \"outputs\": {\n",
      "            \"parameters\": {\n",
      "                \"Output\": {\n",
      "                    \"outputFile\": \"/tmp/kfp_outputs/math-pipeline-2024-06-10-22-26-53-225975/add/Output\"\n",
      "                }\n",
      "            },\n",
      "            \"outputFile\": \"/tmp/kfp_outputs/math-pipeline-2024-06-10-22-26-53-225975/add/executor_output.json\"\n",
      "        }\n",
      "    }\n",
      "    [KFP Executor 2024-06-10 16:56:56,527 INFO]: Wrote executor output file to /tmp/kfp_outputs/math-pipeline-2024-06-10-22-26-53-225975/add/executor_output.json.\n",
      "    /usr/local/lib/python3.7/runpy.py:109: FutureWarning: Python 3.7 has reached end-of-life. KFP will drop support for Python 3.7 on April 23, 2024. To use new versions of the KFP SDK after that date, you will need to upgrade to Python >= 3.8. See https://devguide.python.org/versions/ for more details.\n",
      "      __import__(pkg_name)\n",
      "22:26:56.648 - INFO - Task \u001b[96m'add'\u001b[0m finished with status \u001b[92mSUCCESS\u001b[0m\n",
      "22:26:56.649 - INFO - Task \u001b[96m'add'\u001b[0m outputs:\n",
      "    Output: 3\n",
      "--------------------------------------------------------------------------------\n",
      "22:26:56.650 - INFO - Executing task \u001b[96m'add-2'\u001b[0m\n",
      "22:26:56.650 - INFO - Streamed logs:\n",
      "\n",
      "    Found image 'python:3.7'\n",
      "\n",
      "    WARNING: Running pip as the 'root' user can result in broken permissions and conflicting behaviour with the system package manager. It is recommended to use a virtual environment instead: https://pip.pypa.io/warnings/venv\n",
      "    [KFP Executor 2024-06-10 16:56:59,724 INFO]: Looking for component `add` in --component_module_path `/tmp/tmp.Bgph7c4TM9/ephemeral_component.py`\n",
      "    [KFP Executor 2024-06-10 16:56:59,724 INFO]: Loading KFP component \"add\" from /tmp/tmp.Bgph7c4TM9/ephemeral_component.py (directory \"/tmp/tmp.Bgph7c4TM9\" and module name \"ephemeral_component\")\n",
      "    [KFP Executor 2024-06-10 16:56:59,725 INFO]: Got executor_input:\n",
      "    {\n",
      "        \"inputs\": {\n",
      "            \"parameterValues\": {\n",
      "                \"a\": 3,\n",
      "                \"b\": 3\n",
      "            }\n",
      "        },\n",
      "        \"outputs\": {\n",
      "            \"parameters\": {\n",
      "                \"Output\": {\n",
      "                    \"outputFile\": \"/tmp/kfp_outputs/math-pipeline-2024-06-10-22-26-53-225975/add-2/Output\"\n",
      "                }\n",
      "            },\n",
      "            \"outputFile\": \"/tmp/kfp_outputs/math-pipeline-2024-06-10-22-26-53-225975/add-2/executor_output.json\"\n",
      "        }\n",
      "    }\n",
      "    [KFP Executor 2024-06-10 16:56:59,725 INFO]: Wrote executor output file to /tmp/kfp_outputs/math-pipeline-2024-06-10-22-26-53-225975/add-2/executor_output.json.\n",
      "    /usr/local/lib/python3.7/runpy.py:109: FutureWarning: Python 3.7 has reached end-of-life. KFP will drop support for Python 3.7 on April 23, 2024. To use new versions of the KFP SDK after that date, you will need to upgrade to Python >= 3.8. See https://devguide.python.org/versions/ for more details.\n",
      "      __import__(pkg_name)\n",
      "22:26:59.849 - INFO - Task \u001b[96m'add-2'\u001b[0m finished with status \u001b[92mSUCCESS\u001b[0m\n",
      "22:26:59.850 - INFO - Task \u001b[96m'add-2'\u001b[0m outputs:\n",
      "    Output: 6\n",
      "--------------------------------------------------------------------------------\n",
      "22:26:59.851 - INFO - Pipeline \u001b[95m'math-pipeline'\u001b[0m finished with status \u001b[92mSUCCESS\u001b[0m\n"
     ]
    },
    {
     "data": {
      "text/plain": [
       "<kfp.dsl.pipeline_task.PipelineTask at 0x7ee441ebbbf0>"
      ]
     },
     "execution_count": 12,
     "metadata": {},
     "output_type": "execute_result"
    }
   ],
   "source": [
    "math_pipeline(x=1, y=2, z=3)"
   ]
  }
 ],
 "metadata": {
  "kernelspec": {
   "display_name": "base",
   "language": "python",
   "name": "python3"
  },
  "language_info": {
   "codemirror_mode": {
    "name": "ipython",
    "version": 3
   },
   "file_extension": ".py",
   "mimetype": "text/x-python",
   "name": "python",
   "nbconvert_exporter": "python",
   "pygments_lexer": "ipython3",
   "version": "3.12.2"
  }
 },
 "nbformat": 4,
 "nbformat_minor": 2
}
