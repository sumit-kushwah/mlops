{
 "cells": [
  {
   "cell_type": "code",
   "execution_count": 1,
   "metadata": {},
   "outputs": [],
   "source": [
    "from kfp import dsl\n",
    "\n",
    "@dsl.component(base_image='python:3.10', packages_to_install=['mlflow', 'google-cloud-storage'])\n",
    "def say_hello(mlflow_uri: str) -> str:\n",
    "    import mlflow\n",
    "    mlflow.set_tracking_uri(mlflow_uri)\n",
    "    mlflow.set_experiment('test2')\n",
    "    run_id = \"\"\n",
    "    with mlflow.start_run(run_name=\"test run\") as parent_run:\n",
    "        mlflow.log_param(\"run_id\", parent_run.info.run_id)\n",
    "        run_id = parent_run.info.run_id\n",
    "        \n",
    "    return run_id"
   ]
  },
  {
   "cell_type": "code",
   "execution_count": 3,
   "metadata": {},
   "outputs": [],
   "source": [
    "@dsl.pipeline\n",
    "def hello_pipeline(mlflow_uri: str = \"http://35.244.48.239:8000/\") -> str:\n",
    "    hello_task = say_hello(mlflow_uri=mlflow_uri)\n",
    "    return hello_task.output"
   ]
  },
  {
   "cell_type": "code",
   "execution_count": null,
   "metadata": {},
   "outputs": [],
   "source": [
    "from kfp import compiler\n",
    "compiler.Compiler().compile(hello_pipeline, 'test-pipeline.yml')"
   ]
  }
 ],
 "metadata": {
  "kernelspec": {
   "display_name": "base",
   "language": "python",
   "name": "python3"
  },
  "language_info": {
   "codemirror_mode": {
    "name": "ipython",
    "version": 3
   },
   "file_extension": ".py",
   "mimetype": "text/x-python",
   "name": "python",
   "nbconvert_exporter": "python",
   "pygments_lexer": "ipython3",
   "version": "3.11.4"
  }
 },
 "nbformat": 4,
 "nbformat_minor": 2
}
